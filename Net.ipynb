{
 "cells": [
  {
   "cell_type": "code",
   "execution_count": 12,
   "metadata": {},
   "outputs": [],
   "source": [
    "import pandas as pd\n",
    "import numpy as np\n",
    "import collections"
   ]
  },
  {
   "attachments": {},
   "cell_type": "markdown",
   "metadata": {},
   "source": [
    "Была использована статья https://habr.com/ru/post/456226/"
   ]
  },
  {
   "cell_type": "code",
   "execution_count": 13,
   "metadata": {},
   "outputs": [
    {
     "data": {
      "text/html": [
       "<div>\n",
       "<style scoped>\n",
       "    .dataframe tbody tr th:only-of-type {\n",
       "        vertical-align: middle;\n",
       "    }\n",
       "\n",
       "    .dataframe tbody tr th {\n",
       "        vertical-align: top;\n",
       "    }\n",
       "\n",
       "    .dataframe thead th {\n",
       "        text-align: right;\n",
       "    }\n",
       "</style>\n",
       "<table border=\"1\" class=\"dataframe\">\n",
       "  <thead>\n",
       "    <tr style=\"text-align: right;\">\n",
       "      <th></th>\n",
       "      <th>Country</th>\n",
       "      <th>Wins</th>\n",
       "      <th>Draws</th>\n",
       "      <th>Losses</th>\n",
       "      <th>Scored</th>\n",
       "      <th>Missed</th>\n",
       "      <th>Differance</th>\n",
       "      <th>Points</th>\n",
       "      <th>xG</th>\n",
       "      <th>xGA</th>\n",
       "      <th>xGD</th>\n",
       "      <th>xGD/90</th>\n",
       "    </tr>\n",
       "  </thead>\n",
       "  <tbody>\n",
       "    <tr>\n",
       "      <th>0</th>\n",
       "      <td>Netherlands</td>\n",
       "      <td>2</td>\n",
       "      <td>1</td>\n",
       "      <td>0</td>\n",
       "      <td>5</td>\n",
       "      <td>1</td>\n",
       "      <td>4</td>\n",
       "      <td>7</td>\n",
       "      <td>2.4</td>\n",
       "      <td>2.7</td>\n",
       "      <td>-0.3</td>\n",
       "      <td>-0.11</td>\n",
       "    </tr>\n",
       "    <tr>\n",
       "      <th>1</th>\n",
       "      <td>Senegal</td>\n",
       "      <td>2</td>\n",
       "      <td>0</td>\n",
       "      <td>1</td>\n",
       "      <td>5</td>\n",
       "      <td>4</td>\n",
       "      <td>1</td>\n",
       "      <td>6</td>\n",
       "      <td>3.8</td>\n",
       "      <td>2.5</td>\n",
       "      <td>1.3</td>\n",
       "      <td>0.43</td>\n",
       "    </tr>\n",
       "    <tr>\n",
       "      <th>2</th>\n",
       "      <td>Ecuador</td>\n",
       "      <td>1</td>\n",
       "      <td>1</td>\n",
       "      <td>1</td>\n",
       "      <td>4</td>\n",
       "      <td>3</td>\n",
       "      <td>1</td>\n",
       "      <td>4</td>\n",
       "      <td>3.7</td>\n",
       "      <td>2.6</td>\n",
       "      <td>1.2</td>\n",
       "      <td>0.39</td>\n",
       "    </tr>\n",
       "    <tr>\n",
       "      <th>3</th>\n",
       "      <td>Qatar</td>\n",
       "      <td>0</td>\n",
       "      <td>0</td>\n",
       "      <td>3</td>\n",
       "      <td>1</td>\n",
       "      <td>7</td>\n",
       "      <td>-6</td>\n",
       "      <td>0</td>\n",
       "      <td>1.4</td>\n",
       "      <td>3.5</td>\n",
       "      <td>-2.1</td>\n",
       "      <td>-0.71</td>\n",
       "    </tr>\n",
       "    <tr>\n",
       "      <th>4</th>\n",
       "      <td>England</td>\n",
       "      <td>2</td>\n",
       "      <td>1</td>\n",
       "      <td>0</td>\n",
       "      <td>9</td>\n",
       "      <td>2</td>\n",
       "      <td>7</td>\n",
       "      <td>7</td>\n",
       "      <td>5.2</td>\n",
       "      <td>2.3</td>\n",
       "      <td>2.9</td>\n",
       "      <td>0.97</td>\n",
       "    </tr>\n",
       "  </tbody>\n",
       "</table>\n",
       "</div>"
      ],
      "text/plain": [
       "       Country  Wins  Draws  Losses  Scored  Missed  Differance  Points   xG  \\\n",
       "0  Netherlands     2      1       0       5       1           4       7  2.4   \n",
       "1      Senegal     2      0       1       5       4           1       6  3.8   \n",
       "2      Ecuador     1      1       1       4       3           1       4  3.7   \n",
       "3        Qatar     0      0       3       1       7          -6       0  1.4   \n",
       "4      England     2      1       0       9       2           7       7  5.2   \n",
       "\n",
       "   xGA  xGD  xGD/90  \n",
       "0  2.7 -0.3   -0.11  \n",
       "1  2.5  1.3    0.43  \n",
       "2  2.6  1.2    0.39  \n",
       "3  3.5 -2.1   -0.71  \n",
       "4  2.3  2.9    0.97  "
      ]
     },
     "execution_count": 13,
     "metadata": {},
     "output_type": "execute_result"
    }
   ],
   "source": [
    "# Файл с футбольной статистикой (https://fbref.com/en/comps/1/World-Cup-Stats)\n",
    "data = pd.read_csv(\"data.csv\", encoding='cp1251', delimiter=',')\n",
    "\n",
    "# Файл с матчами (нужны победы и проигрыши)\n",
    "matches = pd.read_csv(\"matches.csv\", encoding='cp1251', delimiter=',')\n",
    "data.head()\n",
    "#matches.head()\n"
   ]
  },
  {
   "cell_type": "code",
   "execution_count": 14,
   "metadata": {},
   "outputs": [],
   "source": [
    "# Записали команды в переменную\n",
    "teams = data['Country']\n",
    "\n",
    "# Получение массива значений статистических данных для определенной команды - назовем \"вектор данных для команды\"\n",
    "def GetTeamStat(team):\n",
    "    for i in range(len(data)):\n",
    "        if data['Country'][i] == team:\n",
    "            return [data['Wins'][i], data['Draws'][i], data['Losses'][i],\n",
    "                    data['Scored'][i], data['Missed'][i],data['Differance'][i], data['Points'][i], data['xG'][i],\n",
    "                    data['xGA'][i], data['xGD'][i], data['xGD/90'][i]]"
   ]
  },
  {
   "cell_type": "code",
   "execution_count": 15,
   "metadata": {},
   "outputs": [
    {
     "data": {
      "text/plain": [
       "[0, 0, 3, 1, 7, -6, 0, 1.4, 3.5, -2.1, -0.71]"
      ]
     },
     "execution_count": 15,
     "metadata": {},
     "output_type": "execute_result"
    }
   ],
   "source": [
    "GetTeamStat('Qatar')\n",
    "\n",
    "# Расшифровка каждого параметра - (https://fbref.com/en/comps/1/World-Cup-Stats)"
   ]
  },
  {
   "cell_type": "code",
   "execution_count": 16,
   "metadata": {},
   "outputs": [],
   "source": [
    "# Собираем векторы данных всех команд в одну общую коллекцию\n",
    "def GetAllTeamStat():\n",
    "    collection = collections.defaultdict(list)\n",
    "    for t in teams:\n",
    "        team_vector = GetTeamStat(t)\n",
    "        collection[t] = team_vector\n",
    "    return collection\n"
   ]
  },
  {
   "cell_type": "code",
   "execution_count": 17,
   "metadata": {},
   "outputs": [
    {
     "data": {
      "text/plain": [
       "defaultdict(list,\n",
       "            {'Netherlands': [2, 1, 0, 5, 1, 4, 7, 2.4, 2.7, -0.3, -0.11],\n",
       "             'Senegal': [2, 0, 1, 5, 4, 1, 6, 3.8, 2.5, 1.3, 0.43],\n",
       "             'Ecuador': [1, 1, 1, 4, 3, 1, 4, 3.7, 2.6, 1.2, 0.39],\n",
       "             'Qatar': [0, 0, 3, 1, 7, -6, 0, 1.4, 3.5, -2.1, -0.71],\n",
       "             'England': [2, 1, 0, 9, 2, 7, 7, 5.2, 2.3, 2.9, 0.97],\n",
       "             'United States': [1, 2, 0, 2, 1, 1, 5, 2.6, 2.7, -0.1, -0.03],\n",
       "             'Iran': [1, 0, 2, 4, 7, -3, 3, 3.2, 4.2, -0.9, -0.32],\n",
       "             'Wales': [0, 1, 2, 1, 6, -5, 1, 2.7, 4.6, -1.9, -0.63],\n",
       "             'Argentina': [2, 0, 1, 5, 2, 3, 6, 6.0, 0.7, 5.2, 1.74],\n",
       "             'Poland': [1, 1, 1, 2, 2, 0, 4, 2.8, 5.9, -3.1, -1.04],\n",
       "             'Mexico': [1, 1, 1, 2, 3, -1, 4, 3.3, 2.4, 0.9, 0.3],\n",
       "             'Saudi Arabia': [1, 0, 2, 3, 5, -2, 3, 3.0, 6.0, -3.0, -1.01],\n",
       "             'France': [2, 0, 1, 6, 3, 3, 6, 7.2, 1.6, 5.5, 1.85],\n",
       "             'Australia': [2, 0, 1, 3, 4, -1, 6, 1.7, 5.6, -3.9, -1.29],\n",
       "             'Tunisia': [1, 1, 1, 1, 1, 0, 4, 2.3, 2.8, -0.5, -0.17],\n",
       "             'Denmark': [0, 1, 2, 1, 3, -2, 1, 2.7, 3.9, -1.2, -0.39],\n",
       "             'Japan': [2, 0, 1, 4, 3, 1, 6, 3.8, 4.2, -0.4, -0.14],\n",
       "             'Spain': [1, 1, 1, 9, 3, 6, 4, 5.2, 2.7, 2.5, 0.82],\n",
       "             'Germany': [1, 1, 1, 6, 5, 1, 4, 10.1, 3.4, 6.7, 2.22],\n",
       "             'Costa Rica': [1, 0, 2, 3, 11, -8, 3, 1.4, 10.1, -8.7, -2.9],\n",
       "             'Morocco': [2, 1, 0, 4, 1, 3, 7, 2.4, 2.8, -0.5, -0.15],\n",
       "             'Croatia': [1, 2, 0, 4, 1, 3, 5, 3.8, 3.8, 0.0, -0.01],\n",
       "             'Belgium': [1, 1, 1, 1, 2, -1, 4, 4.7, 4.6, 0.2, 0.05],\n",
       "             'Canada': [0, 0, 3, 2, 7, -5, 0, 4.2, 3.9, 0.3, 0.11],\n",
       "             'Brazil': [2, 0, 1, 3, 1, 2, 6, 5.9, 0.9, 4.9, 1.65],\n",
       "             'Switzerland': [2, 0, 1, 4, 3, 1, 6, 4.4, 3.1, 1.4, 0.45],\n",
       "             'Cameroon': [1, 1, 1, 4, 4, 0, 4, 3.4, 5.8, -2.3, -0.78],\n",
       "             'Serbia': [0, 1, 2, 5, 8, -3, 1, 3.4, 7.3, -3.9, -1.32],\n",
       "             'Portugal': [2, 0, 1, 6, 4, 2, 6, 4.6, 3.9, 0.7, 0.24],\n",
       "             'Korea Republic': [1, 1, 1, 4, 4, 0, 4, 4.1, 3.5, 0.6, 0.19],\n",
       "             'Uruguay': [1, 1, 1, 2, 2, 0, 4, 3.7, 3.5, 0.1, 0.05],\n",
       "             'Ghana': [1, 0, 2, 5, 7, -2, 3, 4.1, 5.6, -1.4, -0.48]})"
      ]
     },
     "execution_count": 17,
     "metadata": {},
     "output_type": "execute_result"
    }
   ],
   "source": [
    "GetAllTeamStat()"
   ]
  },
  {
   "cell_type": "code",
   "execution_count": 18,
   "metadata": {},
   "outputs": [],
   "source": [
    "def GetTrainingData():\n",
    "    totalNumGames = 0\n",
    "    totalNumGames = len(matches.index)\n",
    "    numFeatures = len((GetTeamStat('Qatar'))) #случайная команда для определения размерности\n",
    "    xTrain = np.zeros(( totalNumGames, numFeatures))\n",
    "    yTrain = np.zeros(( totalNumGames ))\n",
    "    team_vectors = GetAllTeamStat()\n",
    "    counter = 0\n",
    "    for index, row in matches.iterrows():\n",
    "        # Собираем вектор данных определенной команды \n",
    "        team = row['Команда']\n",
    "        t_vector = team_vectors[team]\n",
    "\n",
    "        # Собираем вектор данных соперника этой команды\n",
    "        rivals = row['Соперник']\n",
    "        r_vector = team_vectors[rivals]\n",
    "        \n",
    "         # находим разницу по каждому параметру - формируем вектор разницы\n",
    "        diff = [a - b for a, b in zip(t_vector, r_vector)]\n",
    "        \n",
    "        # В xTrain записываем вектор разницы, в yTrain записываем вектор из нулей и единиц (0 - проигрыш, 1 - победа)\n",
    "        if len(diff) != 0:\n",
    "            xTrain[counter] = diff\n",
    "        if team == row['Победитель']:\n",
    "            yTrain[counter] = 1\n",
    "        else: \n",
    "            yTrain[counter] = 0\n",
    "        counter += 1   \n",
    "    return xTrain, yTrain\n",
    "\n",
    "xTrain, yTrain = GetTrainingData()  "
   ]
  },
  {
   "cell_type": "code",
   "execution_count": 19,
   "metadata": {},
   "outputs": [
    {
     "data": {
      "text/html": [
       "<style>#sk-container-id-2 {color: black;background-color: white;}#sk-container-id-2 pre{padding: 0;}#sk-container-id-2 div.sk-toggleable {background-color: white;}#sk-container-id-2 label.sk-toggleable__label {cursor: pointer;display: block;width: 100%;margin-bottom: 0;padding: 0.3em;box-sizing: border-box;text-align: center;}#sk-container-id-2 label.sk-toggleable__label-arrow:before {content: \"▸\";float: left;margin-right: 0.25em;color: #696969;}#sk-container-id-2 label.sk-toggleable__label-arrow:hover:before {color: black;}#sk-container-id-2 div.sk-estimator:hover label.sk-toggleable__label-arrow:before {color: black;}#sk-container-id-2 div.sk-toggleable__content {max-height: 0;max-width: 0;overflow: hidden;text-align: left;background-color: #f0f8ff;}#sk-container-id-2 div.sk-toggleable__content pre {margin: 0.2em;color: black;border-radius: 0.25em;background-color: #f0f8ff;}#sk-container-id-2 input.sk-toggleable__control:checked~div.sk-toggleable__content {max-height: 200px;max-width: 100%;overflow: auto;}#sk-container-id-2 input.sk-toggleable__control:checked~label.sk-toggleable__label-arrow:before {content: \"▾\";}#sk-container-id-2 div.sk-estimator input.sk-toggleable__control:checked~label.sk-toggleable__label {background-color: #d4ebff;}#sk-container-id-2 div.sk-label input.sk-toggleable__control:checked~label.sk-toggleable__label {background-color: #d4ebff;}#sk-container-id-2 input.sk-hidden--visually {border: 0;clip: rect(1px 1px 1px 1px);clip: rect(1px, 1px, 1px, 1px);height: 1px;margin: -1px;overflow: hidden;padding: 0;position: absolute;width: 1px;}#sk-container-id-2 div.sk-estimator {font-family: monospace;background-color: #f0f8ff;border: 1px dotted black;border-radius: 0.25em;box-sizing: border-box;margin-bottom: 0.5em;}#sk-container-id-2 div.sk-estimator:hover {background-color: #d4ebff;}#sk-container-id-2 div.sk-parallel-item::after {content: \"\";width: 100%;border-bottom: 1px solid gray;flex-grow: 1;}#sk-container-id-2 div.sk-label:hover label.sk-toggleable__label {background-color: #d4ebff;}#sk-container-id-2 div.sk-serial::before {content: \"\";position: absolute;border-left: 1px solid gray;box-sizing: border-box;top: 0;bottom: 0;left: 50%;z-index: 0;}#sk-container-id-2 div.sk-serial {display: flex;flex-direction: column;align-items: center;background-color: white;padding-right: 0.2em;padding-left: 0.2em;position: relative;}#sk-container-id-2 div.sk-item {position: relative;z-index: 1;}#sk-container-id-2 div.sk-parallel {display: flex;align-items: stretch;justify-content: center;background-color: white;position: relative;}#sk-container-id-2 div.sk-item::before, #sk-container-id-2 div.sk-parallel-item::before {content: \"\";position: absolute;border-left: 1px solid gray;box-sizing: border-box;top: 0;bottom: 0;left: 50%;z-index: -1;}#sk-container-id-2 div.sk-parallel-item {display: flex;flex-direction: column;z-index: 1;position: relative;background-color: white;}#sk-container-id-2 div.sk-parallel-item:first-child::after {align-self: flex-end;width: 50%;}#sk-container-id-2 div.sk-parallel-item:last-child::after {align-self: flex-start;width: 50%;}#sk-container-id-2 div.sk-parallel-item:only-child::after {width: 0;}#sk-container-id-2 div.sk-dashed-wrapped {border: 1px dashed gray;margin: 0 0.4em 0.5em 0.4em;box-sizing: border-box;padding-bottom: 0.4em;background-color: white;}#sk-container-id-2 div.sk-label label {font-family: monospace;font-weight: bold;display: inline-block;line-height: 1.2em;}#sk-container-id-2 div.sk-label-container {text-align: center;}#sk-container-id-2 div.sk-container {/* jupyter's `normalize.less` sets `[hidden] { display: none; }` but bootstrap.min.css set `[hidden] { display: none !important; }` so we also need the `!important` here to be able to override the default hidden behavior on the sphinx rendered scikit-learn.org. See: https://github.com/scikit-learn/scikit-learn/issues/21755 */display: inline-block !important;position: relative;}#sk-container-id-2 div.sk-text-repr-fallback {display: none;}</style><div id=\"sk-container-id-2\" class=\"sk-top-container\"><div class=\"sk-text-repr-fallback\"><pre>LinearRegression()</pre><b>In a Jupyter environment, please rerun this cell to show the HTML representation or trust the notebook. <br />On GitHub, the HTML representation is unable to render, please try loading this page with nbviewer.org.</b></div><div class=\"sk-container\" hidden><div class=\"sk-item\"><div class=\"sk-estimator sk-toggleable\"><input class=\"sk-toggleable__control sk-hidden--visually\" id=\"sk-estimator-id-2\" type=\"checkbox\" checked><label for=\"sk-estimator-id-2\" class=\"sk-toggleable__label sk-toggleable__label-arrow\">LinearRegression</label><div class=\"sk-toggleable__content\"><pre>LinearRegression()</pre></div></div></div></div></div>"
      ],
      "text/plain": [
       "LinearRegression()"
      ]
     },
     "execution_count": 19,
     "metadata": {},
     "output_type": "execute_result"
    }
   ],
   "source": [
    "from sklearn.linear_model import LinearRegression\n",
    "model = LinearRegression()\n",
    "model.fit(xTrain, yTrain)"
   ]
  },
  {
   "cell_type": "code",
   "execution_count": 20,
   "metadata": {},
   "outputs": [],
   "source": [
    "def createGamePrediction(team1_vector, team2_vector):\n",
    "    diff = [[a - b for a, b in zip(team1_vector, team2_vector)]]\n",
    "    predictions = model.predict(diff)\n",
    "    return predictions"
   ]
  },
  {
   "cell_type": "code",
   "execution_count": 21,
   "metadata": {},
   "outputs": [
    {
     "name": "stdout",
     "output_type": "stream",
     "text": [
      "Вероятность, что выиграет France: [0.43551142]\n",
      "Вероятность, что выиграет Argentina: [0.43547457]\n"
     ]
    }
   ],
   "source": [
    "team1_name = \"France\"\n",
    "team2_name = \"Argentina\"\n",
    "\n",
    "team1_vector = GetTeamStat(team1_name)\n",
    "team2_vector = GetTeamStat(team2_name)\n",
    "\n",
    "#print(team1_vector, team2_vector)\n",
    "\n",
    "print ('Вероятность, что выиграет ' + team1_name + ':', createGamePrediction(team1_vector, team2_vector))\n",
    "print ('Вероятность, что выиграет ' + team2_name + ':', createGamePrediction(team2_vector, team1_vector))"
   ]
  },
  {
   "cell_type": "code",
   "execution_count": 22,
   "metadata": {},
   "outputs": [
    {
     "name": "stdout",
     "output_type": "stream",
     "text": [
      "Argentina [0.48094063]  -  Netherlands [0.39004536]\n",
      "Argentina [0.57942093]  -  Senegal [0.29156507]\n",
      "Argentina [0.79504265]  -  Ecuador [0.07594334]\n",
      "Argentina [1.06519052]  -  Qatar [-0.19420453]\n",
      "Argentina [0.52519101]  -  England [0.34579498]\n",
      "Argentina [0.60797646]  -  United States [0.26300953]\n",
      "Argentina [0.85329621]  -  Iran [0.01768978]\n",
      "Argentina [0.92407602]  -  Wales [-0.05309003]\n",
      "Argentina [0.5981024]  -  Poland [0.27288359]\n",
      "Argentina [0.68890342]  -  Mexico [0.18208257]\n",
      "Argentina [0.71763409]  -  Saudi Arabia [0.15335191]\n",
      "Argentina [0.43547457]  -  France [0.43551142]\n",
      "Argentina [0.63187854]  -  Australia [0.23910745]\n",
      "Argentina [0.68616897]  -  Tunisia [0.18481702]\n",
      "Argentina [0.97714828]  -  Denmark [-0.10616228]\n",
      "Argentina [0.49913806]  -  Japan [0.37184793]\n",
      "Argentina [0.69069432]  -  Spain [0.18029167]\n",
      "Argentina [0.36756049]  -  Germany [0.50342551]\n",
      "Argentina [0.75155839]  -  Costa Rica [0.1194276]\n",
      "Argentina [0.46269336]  -  Morocco [0.40829264]\n",
      "Argentina [0.50315125]  -  Croatia [0.36783475]\n",
      "Argentina [0.59377082]  -  Belgium [0.27721517]\n",
      "Argentina [1.05446151]  -  Canada [-0.18347552]\n",
      "Argentina [0.44110743]  -  Brazil [0.42987857]\n",
      "Argentina [0.57650642]  -  Switzerland [0.29447957]\n",
      "Argentina [0.71842569]  -  Cameroon [0.15256031]\n",
      "Argentina [0.80090646]  -  Serbia [0.07007954]\n",
      "Argentina [0.58759246]  -  Portugal [0.28339354]\n",
      "Argentina [0.62050474]  -  Korea Republic [0.25048126]\n",
      "Argentina [0.60017375]  -  Uruguay [0.27081225]\n",
      "Argentina [0.83883413]  -  Ghana [0.03215186]\n"
     ]
    }
   ],
   "source": [
    "for team_name in teams:\n",
    "    team1_name = \"Argentina\"\n",
    "    team2_name = team_name\n",
    "    \n",
    "    if(team1_name != team2_name):\n",
    "        team1_vector = GetTeamStat(team1_name)\n",
    "        team2_vector = GetTeamStat(team2_name)\n",
    "\n",
    "        print(team1_name, createGamePrediction(team1_vector, team2_vector), \" - \", team2_name, createGamePrediction(team2_vector, team1_vector,))"
   ]
  }
 ],
 "metadata": {
  "kernelspec": {
   "display_name": "Python 3",
   "language": "python",
   "name": "python3"
  },
  "language_info": {
   "codemirror_mode": {
    "name": "ipython",
    "version": 3
   },
   "file_extension": ".py",
   "mimetype": "text/x-python",
   "name": "python",
   "nbconvert_exporter": "python",
   "pygments_lexer": "ipython3",
   "version": "3.10.7"
  },
  "orig_nbformat": 4,
  "vscode": {
   "interpreter": {
    "hash": "bcbf7162eb6b95ed46589420da7c86d2ea4e64305d040b50444d565148d72e89"
   }
  }
 },
 "nbformat": 4,
 "nbformat_minor": 2
}
